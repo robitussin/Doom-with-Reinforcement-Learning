{
  "cells": [
    {
      "cell_type": "markdown",
      "metadata": {
        "id": "view-in-github",
        "colab_type": "text"
      },
      "source": [
        "<a href=\"https://colab.research.google.com/github/robitussin/Doom-with-Reinforcement-Learning/blob/main/Doom.ipynb\" target=\"_parent\"><img src=\"https://colab.research.google.com/assets/colab-badge.svg\" alt=\"Open In Colab\"/></a>"
      ]
    },
    {
      "cell_type": "markdown",
      "metadata": {
        "id": "MWZDkwv-jy1y"
      },
      "source": [
        "# Deep Q learning with Doom 🕹️\n",
        "In this notebook we'll implement an agent <b>that plays Doom by using a Deep Q learning architecture.</b> <br>\n",
        "Our agent playing Doom:\n",
        "\n",
        "<img src=\"https://github.com/robitussin/CCRNFLRL/blob/main/week_11/Doom/assets/doom.gif?raw=true\" style=\"max-width: 600px;\" alt=\"Deep Q learning with Doom\"/>\n"
      ]
    },
    {
      "cell_type": "markdown",
      "source": [
        "## For Google Collab"
      ],
      "metadata": {
        "id": "2dxPMGfgKkaq"
      }
    },
    {
      "cell_type": "code",
      "execution_count": null,
      "metadata": {
        "colab": {
          "base_uri": "https://localhost:8080/"
        },
        "id": "vjsRWCa9n9UM",
        "outputId": "ee704452-19ab-4983-da71-4f65ca98e2ce"
      },
      "outputs": [
        {
          "output_type": "stream",
          "name": "stdout",
          "text": [
            "Reading package lists...\n",
            "Building dependency tree...\n",
            "Reading state information...\n",
            "libbz2-dev is already the newest version (1.0.8-2).\n",
            "libjpeg-dev is already the newest version (8c-2ubuntu8).\n",
            "libfluidsynth-dev is already the newest version (2.1.1-2).\n",
            "libgme-dev is already the newest version (0.6.2-1build1).\n",
            "libgtk2.0-dev is already the newest version (2.24.32-4ubuntu4).\n",
            "libopenal-dev is already the newest version (1:1.19.1-1).\n",
            "libsdl2-dev is already the newest version (2.0.10+dfsg1-3).\n",
            "libwildmidi-dev is already the newest version (0.4.3-1).\n",
            "nasm is already the newest version (2.14.02-1).\n",
            "timidity is already the newest version (2.14.0-8build1).\n",
            "build-essential is already the newest version (12.8ubuntu1.1).\n",
            "cmake is already the newest version (3.16.3-1ubuntu1.20.04.1).\n",
            "git is already the newest version (1:2.25.1-1ubuntu3.11).\n",
            "tar is already the newest version (1.30+dfsg-7ubuntu0.20.04.3).\n",
            "unzip is already the newest version (6.0-25ubuntu1.1).\n",
            "zlib1g-dev is already the newest version (1:1.2.11.dfsg-2ubuntu1.5).\n",
            "0 upgraded, 0 newly installed, 0 to remove and 42 not upgraded.\n",
            "Reading package lists...\n",
            "Building dependency tree...\n",
            "Reading state information...\n",
            "libboost-all-dev is already the newest version (1.71.0.0ubuntu2).\n",
            "0 upgraded, 0 newly installed, 0 to remove and 42 not upgraded.\n",
            "Reading package lists...\n",
            "Building dependency tree...\n",
            "Reading state information...\n",
            "liblua5.1-0-dev is already the newest version (5.1.5-8.1build4).\n",
            "0 upgraded, 0 newly installed, 0 to remove and 42 not upgraded.\n"
          ]
        }
      ],
      "source": [
        "%%bash\n",
        "# Install deps from\n",
        "# https://github.com/mwydmuch/ViZDoom/blob/master/doc/Building.md#-linux\n",
        "\n",
        "apt-get install build-essential zlib1g-dev libsdl2-dev libjpeg-dev \\\n",
        "nasm tar libbz2-dev libgtk2.0-dev cmake git libfluidsynth-dev libgme-dev \\\n",
        "libopenal-dev timidity libwildmidi-dev unzip\n",
        "\n",
        "# Boost libraries\n",
        "apt-get install libboost-all-dev\n",
        "\n",
        "# Lua binding dependencies\n",
        "apt-get install liblua5.1-dev"
      ]
    },
    {
      "cell_type": "markdown",
      "source": [
        "## Install vizdoom, tensorflow and scikit-image"
      ],
      "metadata": {
        "id": "qa4giPWrLKJZ"
      }
    },
    {
      "cell_type": "code",
      "execution_count": null,
      "metadata": {
        "colab": {
          "base_uri": "https://localhost:8080/"
        },
        "id": "-hr_2wQnn_LN",
        "outputId": "002badd7-db1e-4624-acf8-bd9b3ed957b3"
      },
      "outputs": [
        {
          "output_type": "stream",
          "name": "stdout",
          "text": [
            "Looking in indexes: https://pypi.org/simple, https://us-python.pkg.dev/colab-wheels/public/simple/\n",
            "Requirement already satisfied: vizdoom in /usr/local/lib/python3.10/dist-packages (1.2.0)\n",
            "Requirement already satisfied: numpy in /usr/local/lib/python3.10/dist-packages (from vizdoom) (1.22.4)\n",
            "Requirement already satisfied: gymnasium>=0.28.0 in /usr/local/lib/python3.10/dist-packages (from vizdoom) (0.28.1)\n",
            "Requirement already satisfied: pygame>=2.1.3 in /usr/local/lib/python3.10/dist-packages (from vizdoom) (2.3.0)\n",
            "Requirement already satisfied: jax-jumpy>=1.0.0 in /usr/local/lib/python3.10/dist-packages (from gymnasium>=0.28.0->vizdoom) (1.0.0)\n",
            "Requirement already satisfied: cloudpickle>=1.2.0 in /usr/local/lib/python3.10/dist-packages (from gymnasium>=0.28.0->vizdoom) (2.2.1)\n",
            "Requirement already satisfied: typing-extensions>=4.3.0 in /usr/local/lib/python3.10/dist-packages (from gymnasium>=0.28.0->vizdoom) (4.5.0)\n",
            "Requirement already satisfied: farama-notifications>=0.0.1 in /usr/local/lib/python3.10/dist-packages (from gymnasium>=0.28.0->vizdoom) (0.0.4)\n",
            "Looking in indexes: https://pypi.org/simple, https://us-python.pkg.dev/colab-wheels/public/simple/\n",
            "Requirement already satisfied: tensorflow in /usr/local/lib/python3.10/dist-packages (2.12.0)\n",
            "Requirement already satisfied: absl-py>=1.0.0 in /usr/local/lib/python3.10/dist-packages (from tensorflow) (1.4.0)\n",
            "Requirement already satisfied: astunparse>=1.6.0 in /usr/local/lib/python3.10/dist-packages (from tensorflow) (1.6.3)\n",
            "Requirement already satisfied: flatbuffers>=2.0 in /usr/local/lib/python3.10/dist-packages (from tensorflow) (23.3.3)\n",
            "Requirement already satisfied: gast<=0.4.0,>=0.2.1 in /usr/local/lib/python3.10/dist-packages (from tensorflow) (0.4.0)\n",
            "Requirement already satisfied: google-pasta>=0.1.1 in /usr/local/lib/python3.10/dist-packages (from tensorflow) (0.2.0)\n",
            "Requirement already satisfied: grpcio<2.0,>=1.24.3 in /usr/local/lib/python3.10/dist-packages (from tensorflow) (1.54.0)\n",
            "Requirement already satisfied: h5py>=2.9.0 in /usr/local/lib/python3.10/dist-packages (from tensorflow) (3.8.0)\n",
            "Requirement already satisfied: jax>=0.3.15 in /usr/local/lib/python3.10/dist-packages (from tensorflow) (0.4.10)\n",
            "Requirement already satisfied: keras<2.13,>=2.12.0 in /usr/local/lib/python3.10/dist-packages (from tensorflow) (2.12.0)\n",
            "Requirement already satisfied: libclang>=13.0.0 in /usr/local/lib/python3.10/dist-packages (from tensorflow) (16.0.0)\n",
            "Requirement already satisfied: numpy<1.24,>=1.22 in /usr/local/lib/python3.10/dist-packages (from tensorflow) (1.22.4)\n",
            "Requirement already satisfied: opt-einsum>=2.3.2 in /usr/local/lib/python3.10/dist-packages (from tensorflow) (3.3.0)\n",
            "Requirement already satisfied: packaging in /usr/local/lib/python3.10/dist-packages (from tensorflow) (23.1)\n",
            "Requirement already satisfied: protobuf!=4.21.0,!=4.21.1,!=4.21.2,!=4.21.3,!=4.21.4,!=4.21.5,<5.0.0dev,>=3.20.3 in /usr/local/lib/python3.10/dist-packages (from tensorflow) (3.20.3)\n",
            "Requirement already satisfied: setuptools in /usr/local/lib/python3.10/dist-packages (from tensorflow) (67.7.2)\n",
            "Requirement already satisfied: six>=1.12.0 in /usr/local/lib/python3.10/dist-packages (from tensorflow) (1.16.0)\n",
            "Requirement already satisfied: tensorboard<2.13,>=2.12 in /usr/local/lib/python3.10/dist-packages (from tensorflow) (2.12.2)\n",
            "Requirement already satisfied: tensorflow-estimator<2.13,>=2.12.0 in /usr/local/lib/python3.10/dist-packages (from tensorflow) (2.12.0)\n",
            "Requirement already satisfied: termcolor>=1.1.0 in /usr/local/lib/python3.10/dist-packages (from tensorflow) (2.3.0)\n",
            "Requirement already satisfied: typing-extensions>=3.6.6 in /usr/local/lib/python3.10/dist-packages (from tensorflow) (4.5.0)\n",
            "Requirement already satisfied: wrapt<1.15,>=1.11.0 in /usr/local/lib/python3.10/dist-packages (from tensorflow) (1.14.1)\n",
            "Requirement already satisfied: tensorflow-io-gcs-filesystem>=0.23.1 in /usr/local/lib/python3.10/dist-packages (from tensorflow) (0.32.0)\n",
            "Requirement already satisfied: wheel<1.0,>=0.23.0 in /usr/local/lib/python3.10/dist-packages (from astunparse>=1.6.0->tensorflow) (0.40.0)\n",
            "Requirement already satisfied: ml-dtypes>=0.1.0 in /usr/local/lib/python3.10/dist-packages (from jax>=0.3.15->tensorflow) (0.1.0)\n",
            "Requirement already satisfied: scipy>=1.7 in /usr/local/lib/python3.10/dist-packages (from jax>=0.3.15->tensorflow) (1.10.1)\n",
            "Requirement already satisfied: google-auth<3,>=1.6.3 in /usr/local/lib/python3.10/dist-packages (from tensorboard<2.13,>=2.12->tensorflow) (2.17.3)\n",
            "Requirement already satisfied: google-auth-oauthlib<1.1,>=0.5 in /usr/local/lib/python3.10/dist-packages (from tensorboard<2.13,>=2.12->tensorflow) (1.0.0)\n",
            "Requirement already satisfied: markdown>=2.6.8 in /usr/local/lib/python3.10/dist-packages (from tensorboard<2.13,>=2.12->tensorflow) (3.4.3)\n",
            "Requirement already satisfied: requests<3,>=2.21.0 in /usr/local/lib/python3.10/dist-packages (from tensorboard<2.13,>=2.12->tensorflow) (2.27.1)\n",
            "Requirement already satisfied: tensorboard-data-server<0.8.0,>=0.7.0 in /usr/local/lib/python3.10/dist-packages (from tensorboard<2.13,>=2.12->tensorflow) (0.7.0)\n",
            "Requirement already satisfied: tensorboard-plugin-wit>=1.6.0 in /usr/local/lib/python3.10/dist-packages (from tensorboard<2.13,>=2.12->tensorflow) (1.8.1)\n",
            "Requirement already satisfied: werkzeug>=1.0.1 in /usr/local/lib/python3.10/dist-packages (from tensorboard<2.13,>=2.12->tensorflow) (2.3.0)\n",
            "Requirement already satisfied: cachetools<6.0,>=2.0.0 in /usr/local/lib/python3.10/dist-packages (from google-auth<3,>=1.6.3->tensorboard<2.13,>=2.12->tensorflow) (5.3.0)\n",
            "Requirement already satisfied: pyasn1-modules>=0.2.1 in /usr/local/lib/python3.10/dist-packages (from google-auth<3,>=1.6.3->tensorboard<2.13,>=2.12->tensorflow) (0.3.0)\n",
            "Requirement already satisfied: rsa<5,>=3.1.4 in /usr/local/lib/python3.10/dist-packages (from google-auth<3,>=1.6.3->tensorboard<2.13,>=2.12->tensorflow) (4.9)\n",
            "Requirement already satisfied: requests-oauthlib>=0.7.0 in /usr/local/lib/python3.10/dist-packages (from google-auth-oauthlib<1.1,>=0.5->tensorboard<2.13,>=2.12->tensorflow) (1.3.1)\n",
            "Requirement already satisfied: urllib3<1.27,>=1.21.1 in /usr/local/lib/python3.10/dist-packages (from requests<3,>=2.21.0->tensorboard<2.13,>=2.12->tensorflow) (1.26.15)\n",
            "Requirement already satisfied: certifi>=2017.4.17 in /usr/local/lib/python3.10/dist-packages (from requests<3,>=2.21.0->tensorboard<2.13,>=2.12->tensorflow) (2022.12.7)\n",
            "Requirement already satisfied: charset-normalizer~=2.0.0 in /usr/local/lib/python3.10/dist-packages (from requests<3,>=2.21.0->tensorboard<2.13,>=2.12->tensorflow) (2.0.12)\n",
            "Requirement already satisfied: idna<4,>=2.5 in /usr/local/lib/python3.10/dist-packages (from requests<3,>=2.21.0->tensorboard<2.13,>=2.12->tensorflow) (3.4)\n",
            "Requirement already satisfied: MarkupSafe>=2.1.1 in /usr/local/lib/python3.10/dist-packages (from werkzeug>=1.0.1->tensorboard<2.13,>=2.12->tensorflow) (2.1.2)\n",
            "Requirement already satisfied: pyasn1<0.6.0,>=0.4.6 in /usr/local/lib/python3.10/dist-packages (from pyasn1-modules>=0.2.1->google-auth<3,>=1.6.3->tensorboard<2.13,>=2.12->tensorflow) (0.5.0)\n",
            "Requirement already satisfied: oauthlib>=3.0.0 in /usr/local/lib/python3.10/dist-packages (from requests-oauthlib>=0.7.0->google-auth-oauthlib<1.1,>=0.5->tensorboard<2.13,>=2.12->tensorflow) (3.2.2)\n",
            "Looking in indexes: https://pypi.org/simple, https://us-python.pkg.dev/colab-wheels/public/simple/\n",
            "Requirement already satisfied: scikit-image in /usr/local/lib/python3.10/dist-packages (0.19.3)\n",
            "Requirement already satisfied: numpy>=1.17.0 in /usr/local/lib/python3.10/dist-packages (from scikit-image) (1.22.4)\n",
            "Requirement already satisfied: scipy>=1.4.1 in /usr/local/lib/python3.10/dist-packages (from scikit-image) (1.10.1)\n",
            "Requirement already satisfied: networkx>=2.2 in /usr/local/lib/python3.10/dist-packages (from scikit-image) (3.1)\n",
            "Requirement already satisfied: pillow!=7.1.0,!=7.1.1,!=8.3.0,>=6.1.0 in /usr/local/lib/python3.10/dist-packages (from scikit-image) (8.4.0)\n",
            "Requirement already satisfied: imageio>=2.4.1 in /usr/local/lib/python3.10/dist-packages (from scikit-image) (2.25.1)\n",
            "Requirement already satisfied: tifffile>=2019.7.26 in /usr/local/lib/python3.10/dist-packages (from scikit-image) (2023.4.12)\n",
            "Requirement already satisfied: PyWavelets>=1.1.1 in /usr/local/lib/python3.10/dist-packages (from scikit-image) (1.4.1)\n",
            "Requirement already satisfied: packaging>=20.0 in /usr/local/lib/python3.10/dist-packages (from scikit-image) (23.1)\n"
          ]
        }
      ],
      "source": [
        "!pip install vizdoom\n",
        "!pip install tensorflow\n",
        "!pip install scikit-image"
      ]
    },
    {
      "cell_type": "markdown",
      "metadata": {
        "id": "IS1O533Kjy13"
      },
      "source": [
        "## Step 1: Import the libraries 📚"
      ]
    },
    {
      "cell_type": "code",
      "execution_count": null,
      "metadata": {
        "collapsed": true,
        "id": "p46soGNyjy15"
      },
      "outputs": [],
      "source": [
        "import tensorflow as tf      # Deep Learning library\n",
        "import numpy as np           # Handle matrices\n",
        "from vizdoom import *        # Doom Environment\n",
        "\n",
        "import random                # Handling random number generation\n",
        "import time                  # Handling time calculation\n",
        "from skimage import transform# Help us to preprocess the frames\n",
        "\n",
        "from collections import deque# Ordered collection with ends\n",
        "import matplotlib.pyplot as plt # Display graphs\n",
        "\n",
        "import warnings # This ignore all the warning messages that are normally printed during the training because of skiimage\n",
        "warnings.filterwarnings('ignore')"
      ]
    },
    {
      "cell_type": "markdown",
      "metadata": {
        "id": "13_P_Cr1jy16"
      },
      "source": [
        "## Step 2: Create our environment 🎮\n",
        "- Now that we imported the libraries/dependencies, we will create our environment.\n",
        "- Doom environment takes:\n",
        "    - A `configuration file` that **handle all the options** (size of the frame, possible actions...)\n",
        "    - A `scenario file`: that **generates the correct scenario** (in our case basic **but you're invited to try other scenarios**).\n",
        "- Note: We have 3 possible actions `[[0,0,1], [1,0,0], [0,1,0]]` so we don't need to do one hot encoding (thanks to < a href=\"https://stackoverflow.com/users/2237916/silgon\">silgon</a> for figuring out.\n",
        "\n",
        "### Our environment\n",
        "<img src=\"assets/doom.png\" style=\"max-width:500px;\" alt=\"Doom\"/>\n",
        "\n",
        "- A monster is spawned **randomly somewhere along the opposite wall**.\n",
        "- Player can only go **left/right and shoot**.\n",
        "- 1 hit is enough **to kill the monster**.\n",
        "- Episode finishes when **monster is killed or on timeout (300)**.\n",
        "<br><br>\n",
        "REWARDS:\n",
        "\n",
        "- +101 for killing the monster\n",
        "- -5 for missing\n",
        "- Episode ends after killing the monster or on timeout.\n",
        "- living reward = -1"
      ]
    },
    {
      "cell_type": "code",
      "execution_count": null,
      "metadata": {
        "collapsed": true,
        "id": "pTJOxD5Ljy16"
      },
      "outputs": [],
      "source": [
        "\"\"\"\n",
        "Here we create our environment\n",
        "\"\"\"\n",
        "def create_environment():\n",
        "    game = DoomGame()\n",
        "\n",
        "    # Load the correct configuration\n",
        "    game.load_config(\"basic.cfg\")\n",
        "\n",
        "    # Load the correct scenario (in our case basic scenario)\n",
        "    game.set_doom_scenario_path(\"basic.wad\")\n",
        "\n",
        "    # For Google Collab\n",
        "    game.set_window_visible(False)\n",
        "\n",
        "    game.init()\n",
        "\n",
        "    # Here our possible actions\n",
        "    left = [1, 0, 0]\n",
        "    right = [0, 1, 0]\n",
        "    shoot = [0, 0, 1]\n",
        "    possible_actions = [left, right, shoot]\n",
        "\n",
        "    return game, possible_actions\n",
        "\n",
        "\"\"\"\n",
        "Here we performing random action to test the environment\n",
        "\"\"\"\n",
        "def test_environment():\n",
        "    game = DoomGame()\n",
        "    game.load_config(\"basic.cfg\")\n",
        "    game.set_doom_scenario_path(\"basic.wad\")\n",
        "    game.init()\n",
        "    shoot = [0, 0, 1]\n",
        "    left = [1, 0, 0]\n",
        "    right = [0, 1, 0]\n",
        "    actions = [shoot, left, right]\n",
        "\n",
        "    episodes = 10\n",
        "    for i in range(episodes):\n",
        "        game.new_episode()\n",
        "        while not game.is_episode_finished():\n",
        "            state = game.get_state()\n",
        "            img = state.screen_buffer\n",
        "            misc = state.game_variables\n",
        "            action = random.choice(actions)\n",
        "            print(action)\n",
        "            reward = game.make_action(action)\n",
        "            print (\"\\treward:\", reward)\n",
        "            time.sleep(0.02)\n",
        "        print (\"Result:\", game.get_total_reward())\n",
        "        time.sleep(2)\n",
        "    game.close()"
      ]
    },
    {
      "cell_type": "code",
      "execution_count": null,
      "metadata": {
        "collapsed": true,
        "id": "3SipndqCjy17"
      },
      "outputs": [],
      "source": [
        "game, possible_actions = create_environment()"
      ]
    },
    {
      "cell_type": "markdown",
      "metadata": {
        "id": "1Xms65Qmjy17"
      },
      "source": [
        "## Step 3: Define the preprocessing functions ⚙️\n",
        "### preprocess_frame\n",
        "Preprocessing is an important step, <b>because we want to reduce the complexity of our states to reduce the computation time needed for training.</b>\n",
        "<br><br>\n",
        "Our steps:\n",
        "- Grayscale each of our frames (because <b> color does not add important information </b>). But this is already done by the config file.\n",
        "- Crop the screen (in our case we remove the roof because it contains no information)\n",
        "- We normalize pixel values\n",
        "- Finally we resize the preprocessed frame"
      ]
    },
    {
      "cell_type": "code",
      "execution_count": null,
      "metadata": {
        "collapsed": true,
        "id": "bTd0FuIdjy18"
      },
      "outputs": [],
      "source": [
        "\"\"\"\n",
        "    preprocess_frame:\n",
        "    Take a frame.\n",
        "    Resize it.\n",
        "        __________________\n",
        "        |                 |\n",
        "        |                 |\n",
        "        |                 |\n",
        "        |                 |\n",
        "        |_________________|\n",
        "\n",
        "        to\n",
        "        _____________\n",
        "        |            |\n",
        "        |            |\n",
        "        |            |\n",
        "        |____________|\n",
        "    Normalize it.\n",
        "\n",
        "    return preprocessed_frame\n",
        "\n",
        "    \"\"\"\n",
        "def preprocess_frame(frame):\n",
        "    # Greyscale frame already done in our vizdoom config\n",
        "    # x = np.mean(frame,-1)\n",
        "\n",
        "    # Crop the screen (remove the roof because it contains no information)\n",
        "    cropped_frame = frame[30:-10,30:-30]\n",
        "\n",
        "    # Normalize Pixel Values\n",
        "    normalized_frame = cropped_frame/255.0\n",
        "\n",
        "    # Resize\n",
        "    preprocessed_frame = transform.resize(normalized_frame, [84,84])\n",
        "\n",
        "    return preprocessed_frame"
      ]
    },
    {
      "cell_type": "markdown",
      "metadata": {
        "id": "FEoJcvmRjy18"
      },
      "source": [
        "### stack_frames\n",
        "👏 This part was made possible thanks to help of <a href=\"https://github.com/Miffyli\">Anssi</a><br>\n",
        "\n",
        "As explained in this really <a href=\"https://danieltakeshi.github.io/2016/11/25/frame-skipping-and-preprocessing-for-deep-q-networks-on-atari-2600-games/\">  good article </a> we stack frames.\n",
        "\n",
        "Stacking frames is really important because it helps us to **give have a sense of motion to our Neural Network.**\n",
        "\n",
        "- First we preprocess frame\n",
        "- Then we append the frame to the deque that automatically **removes the oldest frame**\n",
        "- Finally we **build the stacked state**\n",
        "\n",
        "This is how work stack:\n",
        "- For the first frame, we feed 4 frames\n",
        "- At each timestep, **we add the new frame to deque and then we stack them to form a new stacked frame**\n",
        "- And so on\n",
        "<img src=\"https://raw.githubusercontent.com/simoninithomas/Deep_reinforcement_learning_Course/master/DQN/Space%20Invaders/assets/stack_frames.png\" alt=\"stack\">\n",
        "- If we're done, **we create a new stack with 4 new frames (because we are in a new episode)**."
      ]
    },
    {
      "cell_type": "code",
      "execution_count": null,
      "metadata": {
        "collapsed": true,
        "id": "SIRVLOfWjy18"
      },
      "outputs": [],
      "source": [
        "stack_size = 4 # We stack 4 frames\n",
        "\n",
        "# Initialize deque with zero-images one array for each image\n",
        "stacked_frames  =  deque([np.zeros((84,84), dtype=np.int) for i in range(stack_size)], maxlen=4)\n",
        "\n",
        "def stack_frames(stacked_frames, state, is_new_episode):\n",
        "    # Preprocess frame\n",
        "    frame = preprocess_frame(state)\n",
        "\n",
        "    if is_new_episode:\n",
        "        # Clear our stacked_frames\n",
        "        stacked_frames = deque([np.zeros((84,84), dtype=np.int) for i in range(stack_size)], maxlen=4)\n",
        "\n",
        "        # Because we're in a new episode, copy the same frame 4x\n",
        "        stacked_frames.append(frame)\n",
        "        stacked_frames.append(frame)\n",
        "        stacked_frames.append(frame)\n",
        "        stacked_frames.append(frame)\n",
        "\n",
        "        # Stack the frames\n",
        "        stacked_state = np.stack(stacked_frames, axis=2)\n",
        "\n",
        "    else:\n",
        "        # Append frame to deque, automatically removes the oldest frame\n",
        "        stacked_frames.append(frame)\n",
        "\n",
        "        # Build the stacked state (first dimension specifies different frames)\n",
        "        stacked_state = np.stack(stacked_frames, axis=2)\n",
        "\n",
        "    return stacked_state, stacked_frames"
      ]
    },
    {
      "cell_type": "markdown",
      "metadata": {
        "id": "H8Wr2Qcxjy19"
      },
      "source": [
        "## Step 4: Set up our hyperparameters ⚗️\n",
        "In this part we'll set up our different hyperparameters. But when you implement a Neural Network by yourself you will **not implement hyperparamaters at once but progressively**.\n",
        "\n",
        "- First, you begin by defining the neural networks hyperparameters when you implement the model.\n",
        "- Then, you'll add the training hyperparameters when you implement the training algorithm."
      ]
    },
    {
      "cell_type": "code",
      "execution_count": null,
      "metadata": {
        "collapsed": true,
        "id": "Oehg3_Gwjy19"
      },
      "outputs": [],
      "source": [
        "### MODEL HYPERPARAMETERS\n",
        "state_size = [84,84,4]      # Our input is a stack of 4 frames hence 84x84x4 (Width, height, channels)\n",
        "action_size = game.get_available_buttons_size()              # 3 possible actions: left, right, shoot\n",
        "learning_rate =  0.0002      # Alpha (aka learning rate)\n",
        "\n",
        "### TRAINING HYPERPARAMETERS\n",
        "total_episodes = 500        # Total episodes for training\n",
        "max_steps = 100              # Max possible steps in an episode\n",
        "batch_size = 64\n",
        "\n",
        "# Exploration parameters for epsilon greedy strategy\n",
        "explore_start = 1.0            # exploration probability at start\n",
        "explore_stop = 0.01            # minimum exploration probability\n",
        "decay_rate = 0.0001            # exponential decay rate for exploration prob\n",
        "\n",
        "# Q learning hyperparameters\n",
        "gamma = 0.95               # Discounting rate\n",
        "\n",
        "### MEMORY HYPERPARAMETERS\n",
        "pretrain_length = batch_size   # Number of experiences stored in the Memory when initialized for the first time\n",
        "memory_size = 1000000          # Number of experiences the Memory can keep\n",
        "\n",
        "### MODIFY THIS TO FALSE IF YOU JUST WANT TO SEE THE TRAINED AGENT\n",
        "training = True\n",
        "\n",
        "## TURN THIS TO TRUE IF YOU WANT TO RENDER THE ENVIRONMENT\n",
        "episode_render = False"
      ]
    },
    {
      "cell_type": "markdown",
      "metadata": {
        "id": "dM_mJtzYjy1-"
      },
      "source": [
        "## Step 5: Create our Deep Q-learning Neural Network model 🧠\n",
        "<img src=\"assets/model.png\" alt=\"Model\" />\n",
        "This is our Deep Q-learning model:\n",
        "- We take a stack of 4 frames as input\n",
        "- It passes through 3 convnets\n",
        "- Then it is flatened\n",
        "- Finally it passes through 2 FC layers\n",
        "- It outputs a Q value for each actions"
      ]
    },
    {
      "cell_type": "code",
      "execution_count": null,
      "metadata": {
        "collapsed": true,
        "id": "ohiE6DlKjy1-"
      },
      "outputs": [],
      "source": [
        "class DQNetwork:\n",
        "    def __init__(self, state_size, action_size, learning_rate, name='DQNetwork'):\n",
        "        self.state_size = state_size\n",
        "        self.action_size = action_size\n",
        "        self.learning_rate = learning_rate\n",
        "\n",
        "        with tf.compat.v1.variable_scope(name):\n",
        "            # We create the placeholders\n",
        "            # *state_size means that we take each elements of state_size in tuple hence is like if we wrote\n",
        "            # [None, 84, 84, 4]\n",
        "            self.inputs_ = tf.compat.v1.placeholder(tf.float32, [None, *state_size], name=\"inputs\")\n",
        "            self.actions_ = tf.compat.v1.placeholder(tf.float32, [None, 3], name=\"actions_\")\n",
        "\n",
        "            # Remember that target_Q is the R(s,a) + ymax Qhat(s', a')\n",
        "            self.target_Q = tf.compat.v1.placeholder(tf.float32, [None], name=\"target\")\n",
        "\n",
        "            \"\"\"\n",
        "            First convnet:\n",
        "            CNN\n",
        "            BatchNormalization\n",
        "            ELU\n",
        "            \"\"\"\n",
        "            # Input is 84x84x4\n",
        "            self.conv1 = tf.compat.v1.layers.conv2d(inputs = self.inputs_,\n",
        "                                         filters = 32,\n",
        "                                         kernel_size = [8,8],\n",
        "                                         strides = [4,4],\n",
        "                                         padding = \"VALID\",\n",
        "                                          kernel_initializer=tf.compat.v1.keras.initializers.VarianceScaling(scale=1.0, mode=\"fan_avg\", distribution=\"uniform\"),\n",
        "                                         name = \"conv1\")\n",
        "\n",
        "            self.conv1_batchnorm = tf.compat.v1.layers.batch_normalization(self.conv1,\n",
        "                                                   training = True,\n",
        "                                                   epsilon = 1e-5,\n",
        "                                                     name = 'batch_norm1')\n",
        "\n",
        "            self.conv1_out = tf.nn.elu(self.conv1_batchnorm, name=\"conv1_out\")\n",
        "            ## --> [20, 20, 32]\n",
        "\n",
        "\n",
        "            \"\"\"\n",
        "            Second convnet:\n",
        "            CNN\n",
        "            BatchNormalization\n",
        "            ELU\n",
        "            \"\"\"\n",
        "            self.conv2 = tf.compat.v1.layers.conv2d(inputs = self.conv1_out,\n",
        "                                 filters = 64,\n",
        "                                 kernel_size = [4,4],\n",
        "                                 strides = [2,2],\n",
        "                                 padding = \"VALID\",\n",
        "                                kernel_initializer=tf.compat.v1.keras.initializers.VarianceScaling(scale=1.0, mode=\"fan_avg\", distribution=\"uniform\"),\n",
        "                                 name = \"conv2\")\n",
        "\n",
        "            self.conv2_batchnorm = tf.compat.v1.layers.batch_normalization(self.conv2,\n",
        "                                                   training = True,\n",
        "                                                   epsilon = 1e-5,\n",
        "                                                     name = 'batch_norm2')\n",
        "\n",
        "            self.conv2_out = tf.nn.elu(self.conv2_batchnorm, name=\"conv2_out\")\n",
        "            ## --> [9, 9, 64]\n",
        "\n",
        "\n",
        "            \"\"\"\n",
        "            Third convnet:\n",
        "            CNN\n",
        "            BatchNormalization\n",
        "            ELU\n",
        "            \"\"\"\n",
        "            self.conv3 = tf.compat.v1.layers.conv2d(inputs = self.conv2_out,\n",
        "                                 filters = 128,\n",
        "                                 kernel_size = [4,4],\n",
        "                                 strides = [2,2],\n",
        "                                 padding = \"VALID\",\n",
        "                                kernel_initializer=tf.compat.v1.keras.initializers.VarianceScaling(scale=1.0, mode=\"fan_avg\", distribution=\"uniform\"),\n",
        "                                 name = \"conv3\")\n",
        "\n",
        "            self.conv3_batchnorm = tf.compat.v1.layers.batch_normalization(self.conv3,\n",
        "                                                   training = True,\n",
        "                                                   epsilon = 1e-5,\n",
        "                                                     name = 'batch_norm3')\n",
        "\n",
        "            self.conv3_out = tf.nn.elu(self.conv3_batchnorm, name=\"conv3_out\")\n",
        "            ## --> [3, 3, 128]\n",
        "\n",
        "\n",
        "            self.flatten = tf.compat.v1.layers.flatten(self.conv3_out)\n",
        "            ## --> [1152]\n",
        "\n",
        "\n",
        "            self.fc = tf.compat.v1.layers.dense(inputs = self.flatten,\n",
        "                                  units = 512,\n",
        "                                  activation = tf.nn.elu,\n",
        "                                       kernel_initializer=tf.compat.v1.keras.initializers.VarianceScaling(scale=1.0, mode=\"fan_avg\", distribution=\"uniform\"),\n",
        "                                name=\"fc1\")\n",
        "\n",
        "\n",
        "            self.output = tf.compat.v1.layers.dense(inputs = self.fc,\n",
        "                                           kernel_initializer=tf.compat.v1.keras.initializers.VarianceScaling(scale=1.0, mode=\"fan_avg\", distribution=\"uniform\"),\n",
        "                                          units = 3,\n",
        "                                        activation=None)\n",
        "\n",
        "\n",
        "            # Q is our predicted Q value.\n",
        "            self.Q = tf.reduce_sum(tf.multiply(self.output, self.actions_), axis=1)\n",
        "\n",
        "\n",
        "            # The loss is the difference between our predicted Q_values and the Q_target\n",
        "            # Sum(Qtarget - Q)^2\n",
        "            self.loss = tf.reduce_mean(tf.square(self.target_Q - self.Q))\n",
        "\n",
        "            self.optimizer = tf.compat.v1.train.RMSPropOptimizer(self.learning_rate).minimize(self.loss)"
      ]
    },
    {
      "cell_type": "code",
      "execution_count": null,
      "metadata": {
        "id": "equMspOFjy1_"
      },
      "outputs": [],
      "source": [
        "tf.compat.v1.disable_eager_execution()"
      ]
    },
    {
      "cell_type": "code",
      "execution_count": null,
      "metadata": {
        "collapsed": true,
        "id": "BhBN0iVQjy1_",
        "colab": {
          "base_uri": "https://localhost:8080/"
        },
        "outputId": "ff1f0ad2-f2fd-47ca-f9d6-13eccb989c48"
      },
      "outputs": [
        {
          "output_type": "stream",
          "name": "stderr",
          "text": [
            "WARNING:tensorflow:From /usr/local/lib/python3.10/dist-packages/keras/layers/normalization/batch_normalization.py:581: _colocate_with (from tensorflow.python.framework.ops) is deprecated and will be removed in a future version.\n",
            "Instructions for updating:\n",
            "Colocations handled automatically by placer.\n",
            "WARNING:tensorflow:From /usr/local/lib/python3.10/dist-packages/tensorflow/python/training/rmsprop.py:188: calling Ones.__init__ (from tensorflow.python.ops.init_ops) with dtype is deprecated and will be removed in a future version.\n",
            "Instructions for updating:\n",
            "Call initializer instance with the dtype argument instead of passing it to the constructor\n"
          ]
        }
      ],
      "source": [
        "# Reset the graph\n",
        "tf.compat.v1.reset_default_graph()\n",
        "\n",
        "# Instantiate the DQNetwork\n",
        "DQNetwork = DQNetwork(state_size, action_size, learning_rate)"
      ]
    },
    {
      "cell_type": "markdown",
      "metadata": {
        "id": "M_anr1wgjy2A"
      },
      "source": [
        "## Step 6: Experience Replay 🔁\n",
        "Now that we create our Neural Network, **we need to implement the Experience Replay method.** <br><br>\n",
        "Here we'll create the Memory object that creates a deque.A deque (double ended queue) is a data type that **removes the oldest element each time that you add a new element.**\n",
        "\n",
        "This part was taken from Udacity : <a href=\"https://github.com/udacity/deep-learning/blob/master/reinforcement/Q-learning-cart.ipynb\" Cartpole DQN</a>"
      ]
    },
    {
      "cell_type": "code",
      "execution_count": null,
      "metadata": {
        "collapsed": true,
        "id": "p3aX1W82jy2A"
      },
      "outputs": [],
      "source": [
        "class Memory():\n",
        "    def __init__(self, max_size):\n",
        "        self.buffer = deque(maxlen = max_size)\n",
        "\n",
        "    def add(self, experience):\n",
        "        self.buffer.append(experience)\n",
        "\n",
        "    def sample(self, batch_size):\n",
        "        buffer_size = len(self.buffer)\n",
        "        index = np.random.choice(np.arange(buffer_size),\n",
        "                                size = batch_size,\n",
        "                                replace = False)\n",
        "\n",
        "        return [self.buffer[i] for i in index]"
      ]
    },
    {
      "cell_type": "markdown",
      "metadata": {
        "id": "bZCTmVC-jy2B"
      },
      "source": [
        "Here we'll **deal with the empty memory problem**: we pre-populate our memory by taking random actions and storing the experience (state, action, reward, new_state)."
      ]
    },
    {
      "cell_type": "code",
      "execution_count": null,
      "metadata": {
        "collapsed": true,
        "id": "k1yKOKbVjy2B"
      },
      "outputs": [],
      "source": [
        "# Instantiate memory\n",
        "memory = Memory(max_size = memory_size)\n",
        "\n",
        "# Render the environment\n",
        "game.new_episode()\n",
        "\n",
        "for i in range(pretrain_length):\n",
        "    # If it's the first step\n",
        "    if i == 0:\n",
        "        # First we need a state\n",
        "        state = game.get_state().screen_buffer\n",
        "        state, stacked_frames = stack_frames(stacked_frames, state, True)\n",
        "\n",
        "    # Random action\n",
        "    action = random.choice(possible_actions)\n",
        "\n",
        "    # Get the rewards\n",
        "    reward = game.make_action(action)\n",
        "\n",
        "    # Look if the episode is finished\n",
        "    done = game.is_episode_finished()\n",
        "\n",
        "    # If we're dead\n",
        "    if done:\n",
        "        # We finished the episode\n",
        "        next_state = np.zeros(state.shape)\n",
        "\n",
        "        # Add experience to memory\n",
        "        memory.add((state, action, reward, next_state, done))\n",
        "\n",
        "        # Start a new episode\n",
        "        game.new_episode()\n",
        "\n",
        "        # First we need a state\n",
        "        state = game.get_state().screen_buffer\n",
        "\n",
        "        # Stack the frames\n",
        "        state, stacked_frames = stack_frames(stacked_frames, state, True)\n",
        "\n",
        "    else:\n",
        "        # Get the next state\n",
        "        next_state = game.get_state().screen_buffer\n",
        "        next_state, stacked_frames = stack_frames(stacked_frames, next_state, False)\n",
        "\n",
        "        # Add experience to memory\n",
        "        memory.add((state, action, reward, next_state, done))\n",
        "\n",
        "        # Our state is now the next_state\n",
        "        state = next_state"
      ]
    },
    {
      "cell_type": "markdown",
      "metadata": {
        "id": "TxosCT1ajy2C"
      },
      "source": [
        "## Step 7: Set up Tensorboard 📊\n",
        "For more information about tensorboard, please watch this <a href=\"https://www.youtube.com/embed/eBbEDRsCmv4\">excellent 30min tutorial</a> <br><br>\n",
        "To launch tensorboard : `tensorboard --logdir=/tensorboard/dqn/1`"
      ]
    },
    {
      "cell_type": "code",
      "execution_count": null,
      "metadata": {
        "collapsed": true,
        "id": "dxv-FiqWjy2C"
      },
      "outputs": [],
      "source": [
        "# Setup TensorBoard Writer\n",
        "writer = tf.compat.v1.summary.FileWriter(\"/tensorboard/dqn/1\")\n",
        "\n",
        "## Losses\n",
        "tf.compat.v1.summary.scalar(\"Loss\", DQNetwork.loss)\n",
        "\n",
        "write_op = tf.compat.v1.summary.merge_all()"
      ]
    },
    {
      "cell_type": "markdown",
      "metadata": {
        "id": "vXR8b9TEjy2C"
      },
      "source": [
        "## Step 8: Train our Agent 🏃‍♂️\n",
        "\n",
        "Our algorithm:\n",
        "<br>\n",
        "* Initialize the weights\n",
        "* Init the environment\n",
        "* Initialize the decay rate (that will use to reduce epsilon)\n",
        "<br><br>\n",
        "* **For** episode to max_episode **do**\n",
        "    * Make new episode\n",
        "    * Set step to 0\n",
        "    * Observe the first state $s_0$\n",
        "    <br><br>\n",
        "    * **While** step < max_steps **do**:\n",
        "        * Increase decay_rate\n",
        "        * With $\\epsilon$ select a random action $a_t$, otherwise select $a_t = \\mathrm{argmax}_a Q(s_t,a)$\n",
        "        * Execute action $a_t$ in simulator and observe reward $r_{t+1}$ and new state $s_{t+1}$\n",
        "        * Store transition $<s_t, a_t, r_{t+1}, s_{t+1}>$ in memory $D$\n",
        "        * Sample random mini-batch from $D$: $<s, a, r, s'>$\n",
        "        * Set $\\hat{Q} = r$ if the episode ends at $+1$, otherwise set $\\hat{Q} = r + \\gamma \\max_{a'}{Q(s', a')}$\n",
        "        * Make a gradient descent step with loss $(\\hat{Q} - Q(s, a))^2$\n",
        "    * **endfor**\n",
        "    <br><br>\n",
        "* **endfor**\n",
        "\n"
      ]
    },
    {
      "cell_type": "code",
      "execution_count": null,
      "metadata": {
        "collapsed": true,
        "id": "UCO_qh3Qjy2D"
      },
      "outputs": [],
      "source": [
        "\"\"\"\n",
        "This function will do the part\n",
        "With Ïµ select a random action atat, otherwise select at=argmaxaQ(st,a)\n",
        "\"\"\"\n",
        "def predict_action(explore_start, explore_stop, decay_rate, decay_step, state, actions):\n",
        "    ## EPSILON GREEDY STRATEGY\n",
        "    # Choose action a from state s using epsilon greedy.\n",
        "    ## First we randomize a number\n",
        "    exp_exp_tradeoff = np.random.rand()\n",
        "\n",
        "    # Here we'll use an improved version of our epsilon greedy strategy used in Q-learning notebook\n",
        "    explore_probability = explore_stop + (explore_start - explore_stop) * np.exp(-decay_rate * decay_step)\n",
        "\n",
        "    if (explore_probability > exp_exp_tradeoff):\n",
        "        # Make a random action (exploration)\n",
        "        action = random.choice(possible_actions)\n",
        "\n",
        "    else:\n",
        "        # Get action from Q-network (exploitation)\n",
        "        # Estimate the Qs values state\n",
        "        Qs = sess.run(DQNetwork.output, feed_dict = {DQNetwork.inputs_: state.reshape((1, *state.shape))})\n",
        "\n",
        "        # Take the biggest Q value (= the best action)\n",
        "        choice = np.argmax(Qs)\n",
        "        action = possible_actions[int(choice)]\n",
        "\n",
        "    return action, explore_probability"
      ]
    },
    {
      "cell_type": "code",
      "execution_count": null,
      "metadata": {
        "id": "NxTtUgyJjy2D",
        "colab": {
          "base_uri": "https://localhost:8080/"
        },
        "outputId": "c8bb80b3-748f-4898-c970-7f72a382cd14"
      },
      "outputs": [
        {
          "output_type": "stream",
          "name": "stdout",
          "text": [
            "Model Saved\n",
            "Episode: 1 Total reward: 94.0 Training loss: 9.2351 Explore P: 0.9895\n",
            "Episode: 4 Total reward: 26.0 Training loss: 122.0068 Explore P: 0.9643\n",
            "Episode: 5 Total reward: 94.0 Training loss: 79.7620 Explore P: 0.9637\n",
            "Model Saved\n",
            "Model Saved\n",
            "Episode: 12 Total reward: 64.0 Training loss: 1.4480 Explore P: 0.9053\n",
            "Episode: 13 Total reward: 47.0 Training loss: 2.6245 Explore P: 0.9013\n",
            "Episode: 14 Total reward: 72.0 Training loss: 3.8915 Explore P: 0.8992\n",
            "Episode: 15 Total reward: 89.0 Training loss: 10.7720 Explore P: 0.8981\n",
            "Model Saved\n",
            "Episode: 18 Total reward: 52.0 Training loss: 3.7919 Explore P: 0.8771\n",
            "Model Saved\n",
            "Episode: 25 Total reward: 39.0 Training loss: 2.1206 Explore P: 0.8224\n",
            "Model Saved\n",
            "Episode: 29 Total reward: 68.0 Training loss: 4.6458 Explore P: 0.7962\n",
            "Model Saved\n",
            "Episode: 35 Total reward: 95.0 Training loss: 3.6727 Explore P: 0.7574\n",
            "Model Saved\n",
            "Episode: 38 Total reward: 87.0 Training loss: 3.0554 Explore P: 0.7416\n",
            "Episode: 39 Total reward: 28.0 Training loss: 4.2554 Explore P: 0.7370\n",
            "Episode: 40 Total reward: 18.0 Training loss: 2.7525 Explore P: 0.7321\n",
            "Model Saved\n",
            "Episode: 41 Total reward: 32.0 Training loss: 5.1628 Explore P: 0.7278\n",
            "Episode: 42 Total reward: 59.0 Training loss: 3.0032 Explore P: 0.7252\n",
            "Episode: 43 Total reward: 33.0 Training loss: 4.1740 Explore P: 0.7214\n",
            "Episode: 45 Total reward: 24.0 Training loss: 5.2798 Explore P: 0.7099\n",
            "Model Saved\n",
            "Episode: 46 Total reward: 13.0 Training loss: 9.0837 Explore P: 0.7049\n",
            "Episode: 47 Total reward: -1.0 Training loss: 3.2710 Explore P: 0.6992\n",
            "Episode: 48 Total reward: 93.0 Training loss: 13.4319 Explore P: 0.6986\n"
          ]
        }
      ],
      "source": [
        "# Saver will help us to save our model\n",
        "saver = tf.compat.v1.train.Saver()\n",
        "\n",
        "if training == True:\n",
        "    with tf.compat.v1.Session() as sess:\n",
        "        # Initialize the variables\n",
        "        sess.run(tf.compat.v1.global_variables_initializer())\n",
        "\n",
        "        # Initialize the decay rate (that will use to reduce epsilon)\n",
        "        decay_step = 0\n",
        "\n",
        "        # Init the game\n",
        "        game.init()\n",
        "\n",
        "        for episode in range(total_episodes):\n",
        "            # Set step to 0\n",
        "            step = 0\n",
        "\n",
        "            # Initialize the rewards of the episode\n",
        "            episode_rewards = []\n",
        "\n",
        "            # Make a new episode and observe the first state\n",
        "            game.new_episode()\n",
        "            state = game.get_state().screen_buffer\n",
        "\n",
        "            # Remember that stack frame function also call our preprocess function.\n",
        "            state, stacked_frames = stack_frames(stacked_frames, state, True)\n",
        "\n",
        "            while step < max_steps:\n",
        "                step += 1\n",
        "\n",
        "                # Increase decay_step\n",
        "                decay_step +=1\n",
        "\n",
        "                # Predict the action to take and take it\n",
        "                action, explore_probability = predict_action(explore_start, explore_stop, decay_rate, decay_step, state, possible_actions)\n",
        "\n",
        "                # Do the action\n",
        "                reward = game.make_action(action)\n",
        "\n",
        "                # Look if the episode is finished\n",
        "                done = game.is_episode_finished()\n",
        "\n",
        "                # Add the reward to total reward\n",
        "                episode_rewards.append(reward)\n",
        "\n",
        "                # If the game is finished\n",
        "                if done:\n",
        "                    # the episode ends so no next state\n",
        "                    next_state = np.zeros((84,84), dtype=np.int)\n",
        "                    next_state, stacked_frames = stack_frames(stacked_frames, next_state, False)\n",
        "\n",
        "                    # Set step = max_steps to end the episode\n",
        "                    step = max_steps\n",
        "\n",
        "                    # Get the total reward of the episode\n",
        "                    total_reward = np.sum(episode_rewards)\n",
        "\n",
        "                    print('Episode: {}'.format(episode),\n",
        "                              'Total reward: {}'.format(total_reward),\n",
        "                              'Training loss: {:.4f}'.format(loss),\n",
        "                              'Explore P: {:.4f}'.format(explore_probability))\n",
        "\n",
        "                    memory.add((state, action, reward, next_state, done))\n",
        "\n",
        "                else:\n",
        "                    # Get the next state\n",
        "                    next_state = game.get_state().screen_buffer\n",
        "\n",
        "                    # Stack the frame of the next_state\n",
        "                    next_state, stacked_frames = stack_frames(stacked_frames, next_state, False)\n",
        "\n",
        "\n",
        "                    # Add experience to memory\n",
        "                    memory.add((state, action, reward, next_state, done))\n",
        "\n",
        "                    # st+1 is now our current state\n",
        "                    state = next_state\n",
        "\n",
        "\n",
        "                ### LEARNING PART\n",
        "                # Obtain random mini-batch from memory\n",
        "                batch = memory.sample(batch_size)\n",
        "                states_mb = np.array([each[0] for each in batch], ndmin=3)\n",
        "                actions_mb = np.array([each[1] for each in batch])\n",
        "                rewards_mb = np.array([each[2] for each in batch])\n",
        "                next_states_mb = np.array([each[3] for each in batch], ndmin=3)\n",
        "                dones_mb = np.array([each[4] for each in batch])\n",
        "\n",
        "                target_Qs_batch = []\n",
        "\n",
        "                 # Get Q values for next_state\n",
        "                Qs_next_state = sess.run(DQNetwork.output, feed_dict = {DQNetwork.inputs_: next_states_mb})\n",
        "\n",
        "                # Set Q_target = r if the episode ends at s+1, otherwise set Q_target = r + gamma*maxQ(s', a')\n",
        "                for i in range(0, len(batch)):\n",
        "                    terminal = dones_mb[i]\n",
        "\n",
        "                    # If we are in a terminal state, only equals reward\n",
        "                    if terminal:\n",
        "                        target_Qs_batch.append(rewards_mb[i])\n",
        "\n",
        "                    else:\n",
        "                        target = rewards_mb[i] + gamma * np.max(Qs_next_state[i])\n",
        "                        target_Qs_batch.append(target)\n",
        "\n",
        "\n",
        "                targets_mb = np.array([each for each in target_Qs_batch])\n",
        "\n",
        "                loss, _ = sess.run([DQNetwork.loss, DQNetwork.optimizer],\n",
        "                                    feed_dict={DQNetwork.inputs_: states_mb,\n",
        "                                               DQNetwork.target_Q: targets_mb,\n",
        "                                               DQNetwork.actions_: actions_mb})\n",
        "\n",
        "                # Write TF Summaries\n",
        "                summary = sess.run(write_op, feed_dict={DQNetwork.inputs_: states_mb,\n",
        "                                                   DQNetwork.target_Q: targets_mb,\n",
        "                                                   DQNetwork.actions_: actions_mb})\n",
        "                writer.add_summary(summary, episode)\n",
        "                writer.flush()\n",
        "\n",
        "            # Save model every 5 episodes\n",
        "            if episode % 5 == 0:\n",
        "                save_path = saver.save(sess, \"./models/model.ckpt\")\n",
        "                print(\"Model Saved\")"
      ]
    },
    {
      "cell_type": "markdown",
      "metadata": {
        "id": "v9CaMf1ojy2E"
      },
      "source": [
        "## Step 9: Watch our Agent play 👀\n",
        "Now that we trained our agent, we can test it"
      ]
    },
    {
      "cell_type": "code",
      "execution_count": null,
      "metadata": {
        "collapsed": true,
        "id": "h_qVzNR_jy2E"
      },
      "outputs": [],
      "source": [
        "with tf.compat.v1.Session() as sess:\n",
        "\n",
        "    game, possible_actions = create_environment()\n",
        "\n",
        "    totalScore = 0\n",
        "\n",
        "    # Load the model\n",
        "    saver.restore(sess, \"./models/model.ckpt\")\n",
        "    game.init()\n",
        "    for i in range(1):\n",
        "\n",
        "        done = False\n",
        "\n",
        "        game.new_episode()\n",
        "\n",
        "        state = game.get_state().screen_buffer\n",
        "        state, stacked_frames = stack_frames(stacked_frames, state, True)\n",
        "\n",
        "        while not game.is_episode_finished():\n",
        "            # Take the biggest Q value (= the best action)\n",
        "            Qs = sess.run(DQNetwork.output, feed_dict = {DQNetwork.inputs_: state.reshape((1, *state.shape))})\n",
        "\n",
        "            # Take the biggest Q value (= the best action)\n",
        "            choice = np.argmax(Qs)\n",
        "            action = possible_actions[int(choice)]\n",
        "\n",
        "            game.make_action(action)\n",
        "            done = game.is_episode_finished()\n",
        "            score = game.get_total_reward()\n",
        "\n",
        "            if done:\n",
        "                break\n",
        "\n",
        "            else:\n",
        "                print(\"else\")\n",
        "                next_state = game.get_state().screen_buffer\n",
        "                next_state, stacked_frames = stack_frames(stacked_frames, next_state, False)\n",
        "                state = next_state\n",
        "\n",
        "        score = game.get_total_reward()\n",
        "        print(\"Score: \", score)\n",
        "    game.close()"
      ]
    }
  ],
  "metadata": {
    "accelerator": "GPU",
    "colab": {
      "provenance": [],
      "include_colab_link": true
    },
    "kernelspec": {
      "display_name": "Python 3",
      "name": "python3"
    },
    "language_info": {
      "codemirror_mode": {
        "name": "ipython",
        "version": 3
      },
      "file_extension": ".py",
      "mimetype": "text/x-python",
      "name": "python",
      "nbconvert_exporter": "python",
      "pygments_lexer": "ipython3",
      "version": "3.11.3"
    }
  },
  "nbformat": 4,
  "nbformat_minor": 0
}